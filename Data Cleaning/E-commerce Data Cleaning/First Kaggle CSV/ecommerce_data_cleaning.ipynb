{
 "cells": [
  {
   "cell_type": "code",
   "execution_count": 10,
   "id": "ae19ae76",
   "metadata": {},
   "outputs": [
    {
     "data": {
      "text/plain": [
       "<bound method NDFrame.head of      order_id order_status order_source  order_date category      sku  \\\n",
       "0        5447      Shipped     Whatsapp  04/01/2025       CK      Dng   \n",
       "1       14127      Shipped          Web  08/01/2025       CK      DIY   \n",
       "2       14213      Shipped          Web  19/01/2025       CK      DIY   \n",
       "3       14333      Shipped          Web  05/02/2025       CK  Simply9   \n",
       "4       14397      Shipped          Web  16/02/2025       CK  Simply9   \n",
       "..        ...          ...          ...         ...      ...      ...   \n",
       "792      5455      Shipped     Whatsapp  11/02/2025      HNS   101-15   \n",
       "793     14122      Shipped          Web  07/01/2025       WD      pta   \n",
       "794      5542      Shipped     Whatsapp  27/01/2025      HNS   101-15   \n",
       "795      5464      Shipped     Whatsapp  14/03/2025      HNS   101-12   \n",
       "796      5474      Shipped     Whatsapp  18/04/2025      HNS   101-18   \n",
       "\n",
       "     quantity  sales        city  \n",
       "0           1   1590     Karachi  \n",
       "1           1    899     Karachi  \n",
       "2           1    899     Karachi  \n",
       "3           1    990     Karachi  \n",
       "4           1    990     Karachi  \n",
       "..        ...    ...         ...  \n",
       "792         2   8380      Lahore  \n",
       "793         5   8950  Rawalpindi  \n",
       "794         4   9500      Ghotki  \n",
       "795         8  11900      Lahore  \n",
       "796         4  13500      Ghotki  \n",
       "\n",
       "[797 rows x 9 columns]>"
      ]
     },
     "execution_count": 10,
     "metadata": {},
     "output_type": "execute_result"
    }
   ],
   "source": [
    "import pandas as pd\n",
    "\n",
    "import numpy as np\n",
    "\n",
    "df = pd.read_csv('eCommercePK.csv')\n",
    "\n",
    "df.head"
   ]
  },
  {
   "cell_type": "code",
   "execution_count": 11,
   "id": "35847680",
   "metadata": {},
   "outputs": [
    {
     "name": "stdout",
     "output_type": "stream",
     "text": [
      "<class 'pandas.core.frame.DataFrame'>\n",
      "RangeIndex: 797 entries, 0 to 796\n",
      "Data columns (total 9 columns):\n",
      " #   Column        Non-Null Count  Dtype \n",
      "---  ------        --------------  ----- \n",
      " 0   order_id      797 non-null    int64 \n",
      " 1   order_status  797 non-null    object\n",
      " 2   order_source  797 non-null    object\n",
      " 3   order_date    797 non-null    object\n",
      " 4   category      797 non-null    object\n",
      " 5   sku           797 non-null    object\n",
      " 6   quantity      797 non-null    int64 \n",
      " 7   sales         797 non-null    int64 \n",
      " 8   city          797 non-null    object\n",
      "dtypes: int64(3), object(6)\n",
      "memory usage: 56.2+ KB\n"
     ]
    },
    {
     "data": {
      "text/plain": [
       "order_id        0\n",
       "order_status    0\n",
       "order_source    0\n",
       "order_date      0\n",
       "category        0\n",
       "sku             0\n",
       "quantity        0\n",
       "sales           0\n",
       "city            0\n",
       "dtype: int64"
      ]
     },
     "execution_count": 11,
     "metadata": {},
     "output_type": "execute_result"
    }
   ],
   "source": [
    "df.info()\n",
    "\n",
    "df.describe()\n",
    "\n",
    "df.isna().sum()"
   ]
  },
  {
   "cell_type": "code",
   "execution_count": 21,
   "id": "8b87358c",
   "metadata": {},
   "outputs": [
    {
     "name": "stdout",
     "output_type": "stream",
     "text": [
      "Cleaning complete!\n"
     ]
    },
    {
     "data": {
      "text/html": [
       "<div>\n",
       "<style scoped>\n",
       "    .dataframe tbody tr th:only-of-type {\n",
       "        vertical-align: middle;\n",
       "    }\n",
       "\n",
       "    .dataframe tbody tr th {\n",
       "        vertical-align: top;\n",
       "    }\n",
       "\n",
       "    .dataframe thead th {\n",
       "        text-align: right;\n",
       "    }\n",
       "</style>\n",
       "<table border=\"1\" class=\"dataframe\">\n",
       "  <thead>\n",
       "    <tr style=\"text-align: right;\">\n",
       "      <th></th>\n",
       "      <th>order_id</th>\n",
       "      <th>order_status</th>\n",
       "      <th>order_source</th>\n",
       "      <th>order_date</th>\n",
       "      <th>category</th>\n",
       "      <th>sku</th>\n",
       "      <th>quantity</th>\n",
       "      <th>sales</th>\n",
       "      <th>city</th>\n",
       "    </tr>\n",
       "  </thead>\n",
       "  <tbody>\n",
       "    <tr>\n",
       "      <th>0</th>\n",
       "      <td>5447</td>\n",
       "      <td>Shipped</td>\n",
       "      <td>Whatsapp</td>\n",
       "      <td>2025-04-01</td>\n",
       "      <td>CK</td>\n",
       "      <td>Dng</td>\n",
       "      <td>1</td>\n",
       "      <td>1590</td>\n",
       "      <td>Karachi</td>\n",
       "    </tr>\n",
       "    <tr>\n",
       "      <th>1</th>\n",
       "      <td>14127</td>\n",
       "      <td>Shipped</td>\n",
       "      <td>Web</td>\n",
       "      <td>2025-08-01</td>\n",
       "      <td>CK</td>\n",
       "      <td>DIY</td>\n",
       "      <td>1</td>\n",
       "      <td>899</td>\n",
       "      <td>Karachi</td>\n",
       "    </tr>\n",
       "    <tr>\n",
       "      <th>3</th>\n",
       "      <td>14333</td>\n",
       "      <td>Shipped</td>\n",
       "      <td>Web</td>\n",
       "      <td>2025-05-02</td>\n",
       "      <td>CK</td>\n",
       "      <td>Simply9</td>\n",
       "      <td>1</td>\n",
       "      <td>990</td>\n",
       "      <td>Karachi</td>\n",
       "    </tr>\n",
       "    <tr>\n",
       "      <th>7</th>\n",
       "      <td>14325</td>\n",
       "      <td>Shipped</td>\n",
       "      <td>Web</td>\n",
       "      <td>2025-03-02</td>\n",
       "      <td>CK</td>\n",
       "      <td>Geo12</td>\n",
       "      <td>1</td>\n",
       "      <td>1090</td>\n",
       "      <td>Karachi</td>\n",
       "    </tr>\n",
       "    <tr>\n",
       "      <th>8</th>\n",
       "      <td>14356</td>\n",
       "      <td>Shipped</td>\n",
       "      <td>Web</td>\n",
       "      <td>2025-08-02</td>\n",
       "      <td>CK</td>\n",
       "      <td>Geo12</td>\n",
       "      <td>1</td>\n",
       "      <td>1090</td>\n",
       "      <td>Karachi</td>\n",
       "    </tr>\n",
       "  </tbody>\n",
       "</table>\n",
       "</div>"
      ],
      "text/plain": [
       "   order_id order_status order_source order_date category      sku  quantity  \\\n",
       "0      5447      Shipped     Whatsapp 2025-04-01       CK      Dng         1   \n",
       "1     14127      Shipped          Web 2025-08-01       CK      DIY         1   \n",
       "3     14333      Shipped          Web 2025-05-02       CK  Simply9         1   \n",
       "7     14325      Shipped          Web 2025-03-02       CK    Geo12         1   \n",
       "8     14356      Shipped          Web 2025-08-02       CK    Geo12         1   \n",
       "\n",
       "   sales     city  \n",
       "0   1590  Karachi  \n",
       "1    899  Karachi  \n",
       "3    990  Karachi  \n",
       "7   1090  Karachi  \n",
       "8   1090  Karachi  "
      ]
     },
     "execution_count": 21,
     "metadata": {},
     "output_type": "execute_result"
    }
   ],
   "source": [
    "import pandas as pd\n",
    "\n",
    "# Load dataset\n",
    "df = pd.read_csv('eCommercePK.csv')\n",
    "\n",
    "# Remove duplicates\n",
    "df = df.drop_duplicates(subset='order_id')\n",
    "\n",
    "# Fix data types\n",
    "df['order_date'] = pd.to_datetime(df['order_date'], errors='coerce')  # convert to datetime\n",
    "df['quantity'] = pd.to_numeric(df['quantity'], errors='coerce')       # convert to number\n",
    "df['sales'] = pd.to_numeric(df['sales'], errors='coerce')             # convert to number\n",
    "\n",
    "# Handle missing or invalid rows\n",
    "df = df[df['quantity'] > 0]                    \n",
    "df = df[df['sales'] > 0]                      \n",
    "df = df.dropna(subset=['order_date'])         \n",
    "\n",
    "# Fill missing text fields\n",
    "for col in ['order_status', 'order_source', 'category', 'city']:\n",
    "    df[col] = df[col].fillna('Unknown')\n",
    "\n",
    "# Save cleaned dataset\n",
    "df.to_csv('orders_cleaned.csv', index=False)\n",
    "\n",
    "print(\"Cleaning complete!\")\n",
    "df.head()\n"
   ]
  },
  {
   "cell_type": "code",
   "execution_count": null,
   "metadata": {},
   "outputs": [],
   "source": []
  }
 ],
 "metadata": {
  "kernelspec": {
   "display_name": "Python 3",
   "language": "python",
   "name": "python3"
  },
  "language_info": {
   "codemirror_mode": {
    "name": "ipython",
    "version": 3
   },
   "file_extension": ".py",
   "mimetype": "text/x-python",
   "name": "python",
   "nbconvert_exporter": "python",
   "pygments_lexer": "ipython3",
   "version": "3.9.6"
  }
 },
 "nbformat": 4,
 "nbformat_minor": 5
}
